{
 "cells": [
  {
   "cell_type": "markdown",
   "metadata": {},
   "source": [
    "## Simple program to plot Fasting Blood Sugar levels\n",
    "\n",
    "Reads the CSV file exported by [MySugr App](https://mysugr.com/apps/) and plots the data"
   ]
  },
  {
   "cell_type": "code",
   "execution_count": null,
   "metadata": {},
   "outputs": [],
   "source": [
    "import numpy as np\n",
    "import pandas as pd\n",
    "import matplotlib.pyplot as plt"
   ]
  },
  {
   "cell_type": "code",
   "execution_count": null,
   "metadata": {},
   "outputs": [],
   "source": [
    "cname = 'Blood Glucose Measurement (mg/dL)'\n",
    "df = pd.read_csv('Export.csv', usecols=['Date','Time','Tags',cname])\n",
    "df.rename(columns = {cname : 'level'},inplace=True)\n",
    "df.dropna(inplace=True)\n",
    "df['DateTime'] = pd.to_datetime(df['Date'] + ' ' + df['Time']) # reformat the date from string to datetime\n",
    "df['Fasting'] = df['Tags'].apply(lambda s : 'Fasting' in s)\n",
    "df.sort_values('DateTime', ascending=True, inplace=True) # sort by date/time"
   ]
  },
  {
   "cell_type": "code",
   "execution_count": null,
   "metadata": {},
   "outputs": [],
   "source": [
    "fasting = df[df.Fasting==True]\n",
    "fasting = fasting[fasting.DateTime > pd.to_datetime(\"Mar 1, 2019\")]\n",
    "fasting.head()"
   ]
  },
  {
   "cell_type": "code",
   "execution_count": null,
   "metadata": {},
   "outputs": [],
   "source": [
    "plt.figure(figsize=(15,5))\n",
    "ax = plt.gca()\n",
    "fasting.plot(x=\"DateTime\", y=\"level\",color='red',marker='o', ax=ax)\n",
    "plt.grid(True)\n",
    "plt.xlabel('Date')\n",
    "plt.ylabel('Blood Glucose (mg/dL)')\n",
    "plt.show()"
   ]
  },
  {
   "cell_type": "code",
   "execution_count": null,
   "metadata": {},
   "outputs": [],
   "source": []
  },
  {
   "cell_type": "code",
   "execution_count": null,
   "metadata": {},
   "outputs": [],
   "source": []
  }
 ],
 "metadata": {
  "kernelspec": {
   "display_name": "Python 3",
   "language": "python",
   "name": "python3"
  },
  "language_info": {
   "codemirror_mode": {
    "name": "ipython",
    "version": 3
   },
   "file_extension": ".py",
   "mimetype": "text/x-python",
   "name": "python",
   "nbconvert_exporter": "python",
   "pygments_lexer": "ipython3",
   "version": "3.5.4"
  }
 },
 "nbformat": 4,
 "nbformat_minor": 2
}
